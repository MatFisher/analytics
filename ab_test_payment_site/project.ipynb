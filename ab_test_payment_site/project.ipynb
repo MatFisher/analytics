{
 "cells": [
  {
   "cell_type": "markdown",
   "metadata": {},
   "source": [
    "Импорт необходимых библиотек:"
   ]
  },
  {
   "cell_type": "code",
   "execution_count": 105,
   "metadata": {},
   "outputs": [],
   "source": [
    "import pandas as pd\n",
    "import numpy as np\n",
    "import seaborn as sns\n",
    "import matplotlib.pyplot as plt\n",
    "import requests\n",
    "from io import StringIO\n",
    "from urllib.parse import urlencode\n",
    "import pingouin as pg\n",
    "\n",
    "%matplotlib inline"
   ]
  },
  {
   "cell_type": "markdown",
   "metadata": {},
   "source": [
    "Загрузка датасетов:"
   ]
  },
  {
   "cell_type": "code",
   "execution_count": 106,
   "metadata": {},
   "outputs": [],
   "source": [
    "# Формирование списка ссылок на файлы на Яндекс Диске:\n",
    "base_url = 'https://cloud-api.yandex.net/v1/disk/public/resources/download?'\n",
    "file_urls = ['https://disk.yandex.ru/d/UhyYx41rTt3clQ', \n",
    "             'https://disk.yandex.ru/d/5Kxrz02m3IBUwQ', \n",
    "             'https://disk.yandex.ru/d/Tbs44Bm6H_FwFQ',\n",
    "             'https://disk.yandex.ru/d/pH1q-VqcxXjsVA']\n",
    "\n",
    "# Создание пустого списка для хранения ссылок на файлы\n",
    "final_links = []\n",
    "\n",
    "# Цикл для скачивания и считывания файлов\n",
    "for url in file_urls:\n",
    "    # Получаем загрузочную ссылку\n",
    "    final_url = base_url + urlencode(dict(public_key=url))\n",
    "    final_links.append(final_url)\n",
    "    \n",
    "    \n",
    "files_info = [\n",
    "    {'url': final_links[0], 'delimiter': ';'},\n",
    "    {'url': final_links[1], 'delimiter': ','},\n",
    "    {'url': final_links[2], 'delimiter': ','},\n",
    "    {'url': final_links[3], 'delimiter': ';'}\n",
    "]\n",
    "\n",
    "# Функция для загрузки файла с Яндекс Диска и возврата его содержимого\n",
    "def download_file(url):\n",
    "    response = requests.get(url, allow_redirects=True)\n",
    "    actualUrl = response.json()[\"href\"]\n",
    "    response = requests.get(actualUrl, allow_redirects=True)\n",
    "    return response.content.decode('utf-8')\n",
    "\n",
    "# Список для хранения датафреймов\n",
    "dataframes = []\n",
    "\n",
    "# Цикл по ссылкам, загрузка каждого файла и сохранение его в датафрейм с учетом разделителя\n",
    "for file_info in files_info:\n",
    "    file_content = download_file(file_info['url'])\n",
    "    df = pd.read_csv(StringIO(file_content), delimiter=file_info['delimiter'])\n",
    "    dataframes.append(df)\n",
    "\n",
    "# Теперь у нас есть список датафреймов\n",
    "\n",
    "for i in dataframes:\n",
    "    groups = dataframes[0]\n",
    "    groups_add = dataframes[1]\n",
    "    active_studs = dataframes[2]\n",
    "    checks = dataframes[3]"
   ]
  },
  {
   "cell_type": "markdown",
   "metadata": {},
   "source": [
    "Напишу функцию для разведывательного анализа данных, чтобы посмотреть основные сведения о датафреймах"
   ]
  },
  {
   "cell_type": "code",
   "execution_count": 107,
   "metadata": {},
   "outputs": [],
   "source": [
    "dataframes = {\n",
    "    'groups': groups,\n",
    "    'groups_add': groups_add,\n",
    "    'active_studs': active_studs,\n",
    "    'checks':checks\n",
    "}\n",
    "\n",
    "def exp_data_analysis(df_name):\n",
    "    print('-----------------------------------')\n",
    "    print('Общая информация:')\n",
    "    print('-----------------------------------')\n",
    "    print('Имя датафрейма:', df_name)\n",
    "    print('В датафрейме {} строк и {} столбцов.'.format(dataframes[df_name].shape[0], dataframes[df_name].shape[1]))\n",
    "    print('-----------------------------------')\n",
    "    print('Выведем типы данных:')\n",
    "    print('-----------------------------------')\n",
    "    print(dataframes[df_name].dtypes)\n",
    "    print('-----------------------------------')\n",
    "    print('Проверка на пропущенные значения:')\n",
    "    print('-----------------------------------')\n",
    "    print(dataframes[df_name].isna().sum())\n",
    "    print('-----------------------------------')\n",
    "    print('Проверка на дубликаты:')\n",
    "    print('-----------------------------------')\n",
    "    print(dataframes[df_name].loc[dataframes[df_name].duplicated()])\n",
    "    print('-----------------------------------')\n",
    "    print('Выведем первые 5 строк')\n",
    "    print('-----------------------------------')"
   ]
  },
  {
   "cell_type": "markdown",
   "metadata": {},
   "source": [
    "### Предварительный анализ данных\n",
    "\n",
    "Посмотрим, какая информация хранится в наших датасетах, каков размер датасетов. Проверим, есть ли дубликаты и пропущенные значения."
   ]
  },
  {
   "cell_type": "markdown",
   "metadata": {},
   "source": [
    "#### groups\n",
    "\n",
    "Здесь содержится информация о принадлежности пользователя к контрольной или экспериментальной группе\n",
    "\n",
    "1. id - номер пользователя;\n",
    "2. grp - обозначение группы. "
   ]
  },
  {
   "cell_type": "code",
   "execution_count": 108,
   "metadata": {},
   "outputs": [
    {
     "name": "stdout",
     "output_type": "stream",
     "text": [
      "-----------------------------------\n",
      "Общая информация:\n",
      "-----------------------------------\n",
      "Имя датафрейма: groups\n",
      "В датафрейме 74484 строк и 2 столбцов.\n",
      "-----------------------------------\n",
      "Выведем типы данных:\n",
      "-----------------------------------\n",
      "id      int64\n",
      "grp    object\n",
      "dtype: object\n",
      "-----------------------------------\n",
      "Проверка на пропущенные значения:\n",
      "-----------------------------------\n",
      "id     0\n",
      "grp    0\n",
      "dtype: int64\n",
      "-----------------------------------\n",
      "Проверка на дубликаты:\n",
      "-----------------------------------\n",
      "Empty DataFrame\n",
      "Columns: [id, grp]\n",
      "Index: []\n",
      "-----------------------------------\n",
      "Выведем первые 5 строк\n",
      "-----------------------------------\n"
     ]
    },
    {
     "data": {
      "text/html": [
       "<div>\n",
       "<style scoped>\n",
       "    .dataframe tbody tr th:only-of-type {\n",
       "        vertical-align: middle;\n",
       "    }\n",
       "\n",
       "    .dataframe tbody tr th {\n",
       "        vertical-align: top;\n",
       "    }\n",
       "\n",
       "    .dataframe thead th {\n",
       "        text-align: right;\n",
       "    }\n",
       "</style>\n",
       "<table border=\"1\" class=\"dataframe\">\n",
       "  <thead>\n",
       "    <tr style=\"text-align: right;\">\n",
       "      <th></th>\n",
       "      <th>id</th>\n",
       "      <th>grp</th>\n",
       "    </tr>\n",
       "  </thead>\n",
       "  <tbody>\n",
       "    <tr>\n",
       "      <th>0</th>\n",
       "      <td>1489</td>\n",
       "      <td>B</td>\n",
       "    </tr>\n",
       "    <tr>\n",
       "      <th>1</th>\n",
       "      <td>1627</td>\n",
       "      <td>A</td>\n",
       "    </tr>\n",
       "    <tr>\n",
       "      <th>2</th>\n",
       "      <td>1768</td>\n",
       "      <td>B</td>\n",
       "    </tr>\n",
       "    <tr>\n",
       "      <th>3</th>\n",
       "      <td>1783</td>\n",
       "      <td>B</td>\n",
       "    </tr>\n",
       "    <tr>\n",
       "      <th>4</th>\n",
       "      <td>1794</td>\n",
       "      <td>A</td>\n",
       "    </tr>\n",
       "  </tbody>\n",
       "</table>\n",
       "</div>"
      ],
      "text/plain": [
       "     id grp\n",
       "0  1489   B\n",
       "1  1627   A\n",
       "2  1768   B\n",
       "3  1783   B\n",
       "4  1794   A"
      ]
     },
     "execution_count": 108,
     "metadata": {},
     "output_type": "execute_result"
    }
   ],
   "source": [
    "exp_data_analysis('groups')\n",
    "groups.head()"
   ]
  },
  {
   "cell_type": "markdown",
   "metadata": {},
   "source": [
    "#### groups_add\n",
    "\n",
    "Дополнительный файл с информацией о принадлежности пользователя к контрольной или экспериментальной группе. Прислан спустя 2 дня после передачи данных.\n",
    "\n",
    "1. id - номер пользователя;\n",
    "2. grp - обозначение группы. "
   ]
  },
  {
   "cell_type": "code",
   "execution_count": 109,
   "metadata": {},
   "outputs": [
    {
     "name": "stdout",
     "output_type": "stream",
     "text": [
      "-----------------------------------\n",
      "Общая информация:\n",
      "-----------------------------------\n",
      "Имя датафрейма: groups_add\n",
      "В датафрейме 92 строк и 2 столбцов.\n",
      "-----------------------------------\n",
      "Выведем типы данных:\n",
      "-----------------------------------\n",
      "id      int64\n",
      "grp    object\n",
      "dtype: object\n",
      "-----------------------------------\n",
      "Проверка на пропущенные значения:\n",
      "-----------------------------------\n",
      "id     0\n",
      "grp    0\n",
      "dtype: int64\n",
      "-----------------------------------\n",
      "Проверка на дубликаты:\n",
      "-----------------------------------\n",
      "Empty DataFrame\n",
      "Columns: [id, grp]\n",
      "Index: []\n",
      "-----------------------------------\n",
      "Выведем первые 5 строк\n",
      "-----------------------------------\n"
     ]
    },
    {
     "data": {
      "text/html": [
       "<div>\n",
       "<style scoped>\n",
       "    .dataframe tbody tr th:only-of-type {\n",
       "        vertical-align: middle;\n",
       "    }\n",
       "\n",
       "    .dataframe tbody tr th {\n",
       "        vertical-align: top;\n",
       "    }\n",
       "\n",
       "    .dataframe thead th {\n",
       "        text-align: right;\n",
       "    }\n",
       "</style>\n",
       "<table border=\"1\" class=\"dataframe\">\n",
       "  <thead>\n",
       "    <tr style=\"text-align: right;\">\n",
       "      <th></th>\n",
       "      <th>id</th>\n",
       "      <th>grp</th>\n",
       "    </tr>\n",
       "  </thead>\n",
       "  <tbody>\n",
       "    <tr>\n",
       "      <th>0</th>\n",
       "      <td>5694584</td>\n",
       "      <td>B</td>\n",
       "    </tr>\n",
       "    <tr>\n",
       "      <th>1</th>\n",
       "      <td>5694830</td>\n",
       "      <td>B</td>\n",
       "    </tr>\n",
       "    <tr>\n",
       "      <th>2</th>\n",
       "      <td>5695057</td>\n",
       "      <td>B</td>\n",
       "    </tr>\n",
       "    <tr>\n",
       "      <th>3</th>\n",
       "      <td>5698872</td>\n",
       "      <td>B</td>\n",
       "    </tr>\n",
       "    <tr>\n",
       "      <th>4</th>\n",
       "      <td>5699067</td>\n",
       "      <td>B</td>\n",
       "    </tr>\n",
       "  </tbody>\n",
       "</table>\n",
       "</div>"
      ],
      "text/plain": [
       "        id grp\n",
       "0  5694584   B\n",
       "1  5694830   B\n",
       "2  5695057   B\n",
       "3  5698872   B\n",
       "4  5699067   B"
      ]
     },
     "execution_count": 109,
     "metadata": {},
     "output_type": "execute_result"
    }
   ],
   "source": [
    "exp_data_analysis('groups_add')\n",
    "groups_add.head()"
   ]
  },
  {
   "cell_type": "markdown",
   "metadata": {},
   "source": [
    "#### active_studs\n",
    "\n",
    "Файл с информацией о пользователях, которые зашли на сайт в дни проведения эксперимента. \n",
    "\n",
    "* student_id - номер пользователя;"
   ]
  },
  {
   "cell_type": "code",
   "execution_count": 110,
   "metadata": {},
   "outputs": [
    {
     "name": "stdout",
     "output_type": "stream",
     "text": [
      "-----------------------------------\n",
      "Общая информация:\n",
      "-----------------------------------\n",
      "Имя датафрейма: active_studs\n",
      "В датафрейме 8341 строк и 1 столбцов.\n",
      "-----------------------------------\n",
      "Выведем типы данных:\n",
      "-----------------------------------\n",
      "student_id    int64\n",
      "dtype: object\n",
      "-----------------------------------\n",
      "Проверка на пропущенные значения:\n",
      "-----------------------------------\n",
      "student_id    0\n",
      "dtype: int64\n",
      "-----------------------------------\n",
      "Проверка на дубликаты:\n",
      "-----------------------------------\n",
      "Empty DataFrame\n",
      "Columns: [student_id]\n",
      "Index: []\n",
      "-----------------------------------\n",
      "Выведем первые 5 строк\n",
      "-----------------------------------\n"
     ]
    },
    {
     "data": {
      "text/html": [
       "<div>\n",
       "<style scoped>\n",
       "    .dataframe tbody tr th:only-of-type {\n",
       "        vertical-align: middle;\n",
       "    }\n",
       "\n",
       "    .dataframe tbody tr th {\n",
       "        vertical-align: top;\n",
       "    }\n",
       "\n",
       "    .dataframe thead th {\n",
       "        text-align: right;\n",
       "    }\n",
       "</style>\n",
       "<table border=\"1\" class=\"dataframe\">\n",
       "  <thead>\n",
       "    <tr style=\"text-align: right;\">\n",
       "      <th></th>\n",
       "      <th>student_id</th>\n",
       "    </tr>\n",
       "  </thead>\n",
       "  <tbody>\n",
       "    <tr>\n",
       "      <th>0</th>\n",
       "      <td>581585</td>\n",
       "    </tr>\n",
       "    <tr>\n",
       "      <th>1</th>\n",
       "      <td>5723133</td>\n",
       "    </tr>\n",
       "    <tr>\n",
       "      <th>2</th>\n",
       "      <td>3276743</td>\n",
       "    </tr>\n",
       "    <tr>\n",
       "      <th>3</th>\n",
       "      <td>4238589</td>\n",
       "    </tr>\n",
       "    <tr>\n",
       "      <th>4</th>\n",
       "      <td>4475369</td>\n",
       "    </tr>\n",
       "  </tbody>\n",
       "</table>\n",
       "</div>"
      ],
      "text/plain": [
       "   student_id\n",
       "0      581585\n",
       "1     5723133\n",
       "2     3276743\n",
       "3     4238589\n",
       "4     4475369"
      ]
     },
     "execution_count": 110,
     "metadata": {},
     "output_type": "execute_result"
    }
   ],
   "source": [
    "exp_data_analysis('active_studs')\n",
    "active_studs.head()"
   ]
  },
  {
   "cell_type": "markdown",
   "metadata": {},
   "source": [
    "#### checks\n",
    "\n",
    "Файл с информацией об оплатах пользователей в дни проведения эксперимента.  \n",
    "\n",
    "* student_id - номер пользователя;\n",
    "* rev - выручка, полученная от пользователя. "
   ]
  },
  {
   "cell_type": "code",
   "execution_count": 111,
   "metadata": {},
   "outputs": [
    {
     "name": "stdout",
     "output_type": "stream",
     "text": [
      "-----------------------------------\n",
      "Общая информация:\n",
      "-----------------------------------\n",
      "Имя датафрейма: checks\n",
      "В датафрейме 541 строк и 2 столбцов.\n",
      "-----------------------------------\n",
      "Выведем типы данных:\n",
      "-----------------------------------\n",
      "student_id      int64\n",
      "rev           float64\n",
      "dtype: object\n",
      "-----------------------------------\n",
      "Проверка на пропущенные значения:\n",
      "-----------------------------------\n",
      "student_id    0\n",
      "rev           0\n",
      "dtype: int64\n",
      "-----------------------------------\n",
      "Проверка на дубликаты:\n",
      "-----------------------------------\n",
      "Empty DataFrame\n",
      "Columns: [student_id, rev]\n",
      "Index: []\n",
      "-----------------------------------\n",
      "Выведем первые 5 строк\n",
      "-----------------------------------\n"
     ]
    },
    {
     "data": {
      "text/html": [
       "<div>\n",
       "<style scoped>\n",
       "    .dataframe tbody tr th:only-of-type {\n",
       "        vertical-align: middle;\n",
       "    }\n",
       "\n",
       "    .dataframe tbody tr th {\n",
       "        vertical-align: top;\n",
       "    }\n",
       "\n",
       "    .dataframe thead th {\n",
       "        text-align: right;\n",
       "    }\n",
       "</style>\n",
       "<table border=\"1\" class=\"dataframe\">\n",
       "  <thead>\n",
       "    <tr style=\"text-align: right;\">\n",
       "      <th></th>\n",
       "      <th>student_id</th>\n",
       "      <th>rev</th>\n",
       "    </tr>\n",
       "  </thead>\n",
       "  <tbody>\n",
       "    <tr>\n",
       "      <th>0</th>\n",
       "      <td>1627</td>\n",
       "      <td>990.0</td>\n",
       "    </tr>\n",
       "    <tr>\n",
       "      <th>1</th>\n",
       "      <td>3185</td>\n",
       "      <td>690.0</td>\n",
       "    </tr>\n",
       "    <tr>\n",
       "      <th>2</th>\n",
       "      <td>25973</td>\n",
       "      <td>690.0</td>\n",
       "    </tr>\n",
       "    <tr>\n",
       "      <th>3</th>\n",
       "      <td>26280</td>\n",
       "      <td>690.0</td>\n",
       "    </tr>\n",
       "    <tr>\n",
       "      <th>4</th>\n",
       "      <td>100300</td>\n",
       "      <td>990.0</td>\n",
       "    </tr>\n",
       "  </tbody>\n",
       "</table>\n",
       "</div>"
      ],
      "text/plain": [
       "   student_id    rev\n",
       "0        1627  990.0\n",
       "1        3185  690.0\n",
       "2       25973  690.0\n",
       "3       26280  690.0\n",
       "4      100300  990.0"
      ]
     },
     "execution_count": 111,
     "metadata": {},
     "output_type": "execute_result"
    }
   ],
   "source": [
    "exp_data_analysis('checks')\n",
    "checks.head()"
   ]
  },
  {
   "cell_type": "markdown",
   "metadata": {},
   "source": [
    "Согласно проведеному предварительному анализу данных, данные не имеют пропусков и дубликатов. Единственная нестыковка - имена в столбцах обозначения id пользователя различаются в разных таблицах. Предвижу необходимость объединения данных, потому приводим столбцы к единому имени:"
   ]
  },
  {
   "cell_type": "code",
   "execution_count": 112,
   "metadata": {},
   "outputs": [],
   "source": [
    "active_studs = active_studs.rename(columns = {'student_id':'id'})\n",
    "checks = checks.rename(columns = {'student_id':'id'})"
   ]
  },
  {
   "cell_type": "markdown",
   "metadata": {},
   "source": [
    "А также, проверить на дублирование информации в файле groups и более свежем файле groups_add"
   ]
  },
  {
   "cell_type": "code",
   "execution_count": 113,
   "metadata": {},
   "outputs": [
    {
     "data": {
      "text/plain": [
       "id\n",
       "0    74484\n",
       "Name: count, dtype: int64"
      ]
     },
     "execution_count": 113,
     "metadata": {},
     "output_type": "execute_result"
    }
   ],
   "source": [
    "groups.id.isin(groups_add.id).astype(int).value_counts()"
   ]
  },
  {
   "cell_type": "markdown",
   "metadata": {},
   "source": [
    "Данные полностью готовы к дальнейшему исследованию"
   ]
  },
  {
   "cell_type": "markdown",
   "metadata": {},
   "source": [
    "### Выбор целевых метрик\n",
    "\n",
    "Чтобы оценить эффективность эксперимента по внедрению новой механики оплаты, буду смотреть на такие метрики как: \n",
    "\n",
    "1. CR (конверсия в покупку) - для понимания эффекта изменения выручки в целом; \n",
    "2. ARPU (средняя выручка на одного пользователя) - для понимания эффекта изменения выручки за счет привлечения новых пользователей;\n",
    "3. ARPPU (средняя выручка на одного платящего пользователя) - для понимания эффекта изменения выручки за счет привлеченных пользователей;"
   ]
  },
  {
   "cell_type": "code",
   "execution_count": 114,
   "metadata": {},
   "outputs": [
    {
     "data": {
      "text/plain": [
       "149"
      ]
     },
     "execution_count": 114,
     "metadata": {},
     "output_type": "execute_result"
    }
   ],
   "source": [
    "# Объединяем данные из groups и groups_add\n",
    "students_total = pd.concat([groups, groups_add])\n",
    "\n",
    "# Добавим данные пользователей, зашедших на сайт в дни эксперимента\n",
    "active_groups = active_studs.merge(students_total, how = 'left', on = 'id')\n",
    "\n",
    "#Сверим данные об активности студентов в дни эксперимента:\n",
    "checks['match'] = checks['id'].isin(active_groups.id).astype(int)\n",
    "checks.query(\"match == 0\").id.count()"
   ]
  },
  {
   "cell_type": "markdown",
   "metadata": {},
   "source": [
    "149 студентов из числа совершивших покупку не заходили на платформу в дни проведения эксперимента. Далее будем смотреть на данные уже без данных записей"
   ]
  },
  {
   "cell_type": "code",
   "execution_count": 115,
   "metadata": {},
   "outputs": [
    {
     "data": {
      "text/html": [
       "<div>\n",
       "<style scoped>\n",
       "    .dataframe tbody tr th:only-of-type {\n",
       "        vertical-align: middle;\n",
       "    }\n",
       "\n",
       "    .dataframe tbody tr th {\n",
       "        vertical-align: top;\n",
       "    }\n",
       "\n",
       "    .dataframe thead th {\n",
       "        text-align: right;\n",
       "    }\n",
       "</style>\n",
       "<table border=\"1\" class=\"dataframe\">\n",
       "  <thead>\n",
       "    <tr style=\"text-align: right;\">\n",
       "      <th></th>\n",
       "      <th>id</th>\n",
       "      <th>grp</th>\n",
       "      <th>rev</th>\n",
       "    </tr>\n",
       "  </thead>\n",
       "  <tbody>\n",
       "    <tr>\n",
       "      <th>0</th>\n",
       "      <td>581585</td>\n",
       "      <td>A</td>\n",
       "      <td>NaN</td>\n",
       "    </tr>\n",
       "    <tr>\n",
       "      <th>1</th>\n",
       "      <td>5723133</td>\n",
       "      <td>A</td>\n",
       "      <td>NaN</td>\n",
       "    </tr>\n",
       "    <tr>\n",
       "      <th>2</th>\n",
       "      <td>3276743</td>\n",
       "      <td>B</td>\n",
       "      <td>NaN</td>\n",
       "    </tr>\n",
       "    <tr>\n",
       "      <th>3</th>\n",
       "      <td>4238589</td>\n",
       "      <td>A</td>\n",
       "      <td>NaN</td>\n",
       "    </tr>\n",
       "    <tr>\n",
       "      <th>4</th>\n",
       "      <td>4475369</td>\n",
       "      <td>B</td>\n",
       "      <td>NaN</td>\n",
       "    </tr>\n",
       "  </tbody>\n",
       "</table>\n",
       "</div>"
      ],
      "text/plain": [
       "        id grp  rev\n",
       "0   581585   A  NaN\n",
       "1  5723133   A  NaN\n",
       "2  3276743   B  NaN\n",
       "3  4238589   A  NaN\n",
       "4  4475369   B  NaN"
      ]
     },
     "execution_count": 115,
     "metadata": {},
     "output_type": "execute_result"
    }
   ],
   "source": [
    "#Фильтруем пользователей и сводим данные в общий датасет\n",
    "checks_active = checks.query(\"match == 1\")\n",
    "checks_active = checks_active.drop('match', axis=1)\n",
    "active_students_payments = active_groups.merge(checks_active, how = 'left', on = 'id')\n",
    "active_students_payments.head()"
   ]
  },
  {
   "cell_type": "markdown",
   "metadata": {},
   "source": [
    "В результате получили датасет со списком всех активных студентов, которые были распределены по группам. Далее добавляю колонку payment с указанием наличия или отсутствия оплаты у каждого из студентов:"
   ]
  },
  {
   "cell_type": "code",
   "execution_count": 116,
   "metadata": {},
   "outputs": [
    {
     "data": {
      "text/plain": [
       "<Axes: xlabel='grp', ylabel='id'>"
      ]
     },
     "execution_count": 116,
     "metadata": {},
     "output_type": "execute_result"
    },
    {
     "data": {
      "image/png": "[encoded data removed]",
      "text/plain": [
       "<Figure size 640x480 with 1 Axes>"
      ]
     },
     "metadata": {},
     "output_type": "display_data"
    }
   ],
   "source": [
    "active_students_payments['payment'] = active_students_payments.rev.apply(lambda x: 0 if np.isnan(x) else 1)\n",
    "\n",
    "# Выясняем количество платежей у каждого пользователя с разбивкой по группам:\n",
    "\n",
    "merged_df = active_students_payments.groupby(['grp','payment'], as_index = False).agg({'id':'count'})\n",
    "sns.barplot(data=merged_df.query(\"payment == 1\"), x= 'grp', y='id')"
   ]
  },
  {
   "cell_type": "code",
   "execution_count": 117,
   "metadata": {},
   "outputs": [
    {
     "name": "stdout",
     "output_type": "stream",
     "text": [
      "CR для контрольной группы - 0.065\n",
      "CR для тестовой группы - 0.015\n"
     ]
    }
   ],
   "source": [
    "# Рассчитаем метрику СR для каждой группы:\n",
    "\n",
    "cr_a = (merged_df.query(\"grp == 'A' and payment == 1\").id.count() / active_students_payments.query(\"grp == 'A'\").id.count()) * 100\n",
    "print(f'CR для контрольной группы - {cr_a.round(3)}') \n",
    "cr_b = (merged_df.query(\"grp == 'B' and payment == 1\").id.count() / active_students_payments.query(\"grp == 'B'\").id.count()) * 100\n",
    "print(f'CR для тестовой группы - {cr_b.round(3)}') "
   ]
  },
  {
   "cell_type": "markdown",
   "metadata": {},
   "source": [
    "Таким образом, за время проведения эксперимента в контрольной группе А 78 студентов совершили покупку, а в тестовой группе В - 314 студентов. В тестовой группе совершивших покупку пользователей заметно больше, однако и общее количество наблюдений в группе В значительно превышает количество наблюдений в контрольной группе. \n",
    "При этом конверсия в покупку в тестовой группе оказалась меньше, чем в контрольной - 6,5% в группе В и 1,5% в группе А."
   ]
  },
  {
   "cell_type": "markdown",
   "metadata": {},
   "source": [
    "### Анализ метрики CR\n",
    "Для того чтобы оценить, действительно ли новая платформа для оплаты оказала влияние на изменение CR, необходимо проверить статистическую значимость изменений. Наиболее оптимельным тестом для проверки в данном случае будет хи-квадрат, т.к. этот способ лучше всего подходит для оценки качественных метрик по типу конверсии.\n",
    "\n",
    "НО: CR не зависит от группы, различия статистически не значимы; \n",
    "\n",
    "Н1: CR зависит от группы, статистически значимые различия есть."
   ]
  },
  {
   "cell_type": "code",
   "execution_count": 118,
   "metadata": {},
   "outputs": [
    {
     "data": {
      "text/html": [
       "<div>\n",
       "<style scoped>\n",
       "    .dataframe tbody tr th:only-of-type {\n",
       "        vertical-align: middle;\n",
       "    }\n",
       "\n",
       "    .dataframe tbody tr th {\n",
       "        vertical-align: top;\n",
       "    }\n",
       "\n",
       "    .dataframe thead th {\n",
       "        text-align: right;\n",
       "    }\n",
       "</style>\n",
       "<table border=\"1\" class=\"dataframe\">\n",
       "  <thead>\n",
       "    <tr style=\"text-align: right;\">\n",
       "      <th></th>\n",
       "      <th>test</th>\n",
       "      <th>lambda</th>\n",
       "      <th>chi2</th>\n",
       "      <th>dof</th>\n",
       "      <th>pval</th>\n",
       "      <th>cramer</th>\n",
       "      <th>power</th>\n",
       "    </tr>\n",
       "  </thead>\n",
       "  <tbody>\n",
       "    <tr>\n",
       "      <th>0</th>\n",
       "      <td>pearson</td>\n",
       "      <td>1.000000</td>\n",
       "      <td>0.484808</td>\n",
       "      <td>1.0</td>\n",
       "      <td>0.486252</td>\n",
       "      <td>0.007624</td>\n",
       "      <td>0.107123</td>\n",
       "    </tr>\n",
       "    <tr>\n",
       "      <th>1</th>\n",
       "      <td>cressie-read</td>\n",
       "      <td>0.666667</td>\n",
       "      <td>0.482018</td>\n",
       "      <td>1.0</td>\n",
       "      <td>0.487510</td>\n",
       "      <td>0.007602</td>\n",
       "      <td>0.106787</td>\n",
       "    </tr>\n",
       "    <tr>\n",
       "      <th>2</th>\n",
       "      <td>log-likelihood</td>\n",
       "      <td>0.000000</td>\n",
       "      <td>0.476541</td>\n",
       "      <td>1.0</td>\n",
       "      <td>0.489993</td>\n",
       "      <td>0.007559</td>\n",
       "      <td>0.106127</td>\n",
       "    </tr>\n",
       "    <tr>\n",
       "      <th>3</th>\n",
       "      <td>freeman-tukey</td>\n",
       "      <td>-0.500000</td>\n",
       "      <td>0.472522</td>\n",
       "      <td>1.0</td>\n",
       "      <td>0.491829</td>\n",
       "      <td>0.007527</td>\n",
       "      <td>0.105643</td>\n",
       "    </tr>\n",
       "    <tr>\n",
       "      <th>4</th>\n",
       "      <td>mod-log-likelihood</td>\n",
       "      <td>-1.000000</td>\n",
       "      <td>0.468578</td>\n",
       "      <td>1.0</td>\n",
       "      <td>0.493642</td>\n",
       "      <td>0.007495</td>\n",
       "      <td>0.105168</td>\n",
       "    </tr>\n",
       "    <tr>\n",
       "      <th>5</th>\n",
       "      <td>neyman</td>\n",
       "      <td>-2.000000</td>\n",
       "      <td>0.460909</td>\n",
       "      <td>1.0</td>\n",
       "      <td>0.497200</td>\n",
       "      <td>0.007434</td>\n",
       "      <td>0.104245</td>\n",
       "    </tr>\n",
       "  </tbody>\n",
       "</table>\n",
       "</div>"
      ],
      "text/plain": [
       "                 test    lambda      chi2  dof      pval    cramer     power\n",
       "0             pearson  1.000000  0.484808  1.0  0.486252  0.007624  0.107123\n",
       "1        cressie-read  0.666667  0.482018  1.0  0.487510  0.007602  0.106787\n",
       "2      log-likelihood  0.000000  0.476541  1.0  0.489993  0.007559  0.106127\n",
       "3       freeman-tukey -0.500000  0.472522  1.0  0.491829  0.007527  0.105643\n",
       "4  mod-log-likelihood -1.000000  0.468578  1.0  0.493642  0.007495  0.105168\n",
       "5              neyman -2.000000  0.460909  1.0  0.497200  0.007434  0.104245"
      ]
     },
     "execution_count": 118,
     "metadata": {},
     "output_type": "execute_result"
    }
   ],
   "source": [
    "# Проведем тест хи-квадрат:\n",
    "\n",
    "exp, obs, stats = pg.chi2_independence(data=active_students_payments, \n",
    "                                       x=\"grp\", \n",
    "                                       y=\"payment\")\n",
    "stats"
   ]
  },
  {
   "cell_type": "markdown",
   "metadata": {},
   "source": [
    "Т.к. p-value = 0.49, это не дает возможности отклонить нулевую гипотезу. Соответственно, обнаруженные в ходе проведения эксперимента различия не являются стат.значимыми, и изменение метрики CR не связано с внедрением новой платформы оплаты."
   ]
  },
  {
   "cell_type": "markdown",
   "metadata": {},
   "source": [
    "### Анализ метрик ARPU и ARPPU"
   ]
  },
  {
   "cell_type": "code",
   "execution_count": 119,
   "metadata": {},
   "outputs": [
    {
     "name": "stdout",
     "output_type": "stream",
     "text": [
      "ARPU для контрольной группы - 47.35\n",
      "ARPU для тестовой группы - 58.06\n"
     ]
    }
   ],
   "source": [
    "# Рассчет ARPU\n",
    "arpu_a = active_students_payments.query('grp == \"A\"').rev.sum() / active_students_payments.query('grp == \"A\"').id.count()\n",
    "print(f'ARPU для контрольной группы - {arpu_a.round(2)}') \n",
    "arpu_b = active_students_payments.query('grp == \"B\"').rev.sum() / active_students_payments.query('grp == \"B\"').id.count()\n",
    "print(f'ARPU для тестовой группы - {arpu_b.round(2)}') "
   ]
  },
  {
   "cell_type": "code",
   "execution_count": 120,
   "metadata": {},
   "outputs": [
    {
     "name": "stdout",
     "output_type": "stream",
     "text": [
      "ARPPU для контрольной группы - 933.59\n",
      "ARPPU для тестовой группы - 1257.88\n"
     ]
    }
   ],
   "source": [
    "# Рассчет ARPPU\n",
    "arppu_a = active_students_payments.query('grp == \"A\"').rev.sum() / active_students_payments.query('grp == \"A\" and rev > 0').id.count()\n",
    "print(f'ARPPU для контрольной группы - {arppu_a.round(2)}') \n",
    "arppu_b = active_students_payments.query('grp == \"B\"').rev.sum() / active_students_payments.query('grp == \"B\" and rev > 0').id.count()\n",
    "print(f'ARPPU для тестовой группы - {arppu_b.round(2)}') "
   ]
  },
  {
   "cell_type": "code",
   "execution_count": 121,
   "metadata": {},
   "outputs": [
    {
     "data": {
      "text/plain": [
       "<Axes: xlabel='rev', ylabel='Count'>"
      ]
     },
     "execution_count": 121,
     "metadata": {},
     "output_type": "execute_result"
    },
    {
     "data": {
      "image/png": "[encoded data removed]",
      "text/plain": [
       "<Figure size 640x480 with 1 Axes>"
      ]
     },
     "metadata": {},
     "output_type": "display_data"
    }
   ],
   "source": [
    "# Визуализируем распределение выручки от активных пользователей по группам:\n",
    "\n",
    "sns.histplot(data=active_students_payments, x=\"rev\", hue=\"grp\")"
   ]
  },
  {
   "cell_type": "code",
   "execution_count": 122,
   "metadata": {},
   "outputs": [
    {
     "data": {
      "image/png": "[encoded data removed]",
      "text/plain": [
       "<Figure size 640x480 with 1 Axes>"
      ]
     },
     "metadata": {},
     "output_type": "display_data"
    }
   ],
   "source": [
    "# Также проверим наличие выбросов в данных:\n",
    "\n",
    "sns.boxplot(data=active_students_payments, y='rev', x='grp')\n",
    "sns.despine()"
   ]
  },
  {
   "cell_type": "markdown",
   "metadata": {},
   "source": [
    "Распределение выручки в обеих группах ассиметрично, выбросы в данных присутствуют. \n",
    "\n",
    "Значения метрик ARPU и ARPPU в тестовой группе выше, чем в контрольной. Однако необходимо проверить, являются ли обнаруженные изменения статистически значимыми. Поскольку очень сильно различается количество наблюдений в контрольной и тестовой группах, а также данные распределены не нормально, то для анализа метрик ARPU и ARPPU воспользуемся методом bootstrap, который наиболее оптимален в таких случаях."
   ]
  },
  {
   "cell_type": "markdown",
   "metadata": {},
   "source": [
    "### Анализ метрики ARPU\n",
    "\n",
    "Н0: Нет статистически значимых различий в ARPU между контрольной и тестовой группами. \n",
    "\n",
    "Н1: Есть статистически значимая разница в ARPU между контрольной и тестовой группами."
   ]
  },
  {
   "cell_type": "code",
   "execution_count": 123,
   "metadata": {},
   "outputs": [
    {
     "name": "stderr",
     "output_type": "stream",
     "text": [
      "C:\\Users\\Трейд_1\\AppData\\Local\\Temp\\ipykernel_15980\\1434695326.py:8: SettingWithCopyWarning: \n",
      "A value is trying to be set on a copy of a slice from a DataFrame.\n",
      "Try using .loc[row_indexer,col_indexer] = value instead\n",
      "\n",
      "See the caveats in the documentation: https://pandas.pydata.org/pandas-docs/stable/user_guide/indexing.html#returning-a-view-versus-a-copy\n",
      "  ARPU_control['rev'] = ARPU_control['rev'].fillna(0)\n",
      "C:\\Users\\Трейд_1\\AppData\\Local\\Temp\\ipykernel_15980\\1434695326.py:9: SettingWithCopyWarning: \n",
      "A value is trying to be set on a copy of a slice from a DataFrame.\n",
      "Try using .loc[row_indexer,col_indexer] = value instead\n",
      "\n",
      "See the caveats in the documentation: https://pandas.pydata.org/pandas-docs/stable/user_guide/indexing.html#returning-a-view-versus-a-copy\n",
      "  ARPU_test['rev'] = ARPU_test['rev'].fillna(0)\n"
     ]
    }
   ],
   "source": [
    "# Определим датафреймы для контрольной и тестовой групп:\n",
    "\n",
    "ARPU_control = active_students_payments.query('grp == \"A\"')\n",
    "ARPU_test = active_students_payments.query('grp == \"B\"')\n",
    "\n",
    "# Заменим NaN на нули:\n",
    "\n",
    "ARPU_control['rev'] = ARPU_control['rev'].fillna(0)\n",
    "ARPU_test['rev'] = ARPU_test['rev'].fillna(0)"
   ]
  },
  {
   "cell_type": "code",
   "execution_count": 124,
   "metadata": {},
   "outputs": [],
   "source": [
    "# Напишем функцию для поверки гипотез при помощи метода bootstrap:\n",
    "\n",
    "plt.style.use('ggplot')\n",
    "def get_bootstrap(\n",
    "    data_column_1, # числовые значения тестовой выборки\n",
    "    data_column_2, # числовые значения контрольной выборки\n",
    "    boot_it = 10000, # количество бутстрэп-подвыборок\n",
    "    statistic = np.mean, # интересующая статистика\n",
    "    bootstrap_conf_level = 0.95 # уровень значимости\n",
    "):\n",
    "    boot_len = max([len(data_column_1), len(data_column_2)])\n",
    "    boot_data = []\n",
    "    for i in tqdm(range(boot_it)): # извлекаем подвыборки\n",
    "        samples_1 = data_column_1.sample(\n",
    "            boot_len, \n",
    "            replace = True # параметр возвращения\n",
    "        ).values\n",
    "        \n",
    "        samples_2 = data_column_2.sample(\n",
    "            boot_len, # чтобы сохранить дисперсию, берем такой же размер выборки\n",
    "            replace = True\n",
    "        ).values\n",
    "        \n",
    "        boot_data.append(statistic(samples_1-samples_2)) \n",
    "    pd_boot_data = pd.DataFrame(boot_data)\n",
    "        \n",
    "    left_quant = (1 - bootstrap_conf_level)/2\n",
    "    right_quant = 1 - (1 - bootstrap_conf_level) / 2\n",
    "    quants = pd_boot_data.quantile([left_quant, right_quant])\n",
    "        \n",
    "    p_1 = norm.cdf(\n",
    "        x = 0, \n",
    "        loc = np.mean(boot_data), \n",
    "        scale = np.std(boot_data)\n",
    "    )\n",
    "    p_2 = norm.cdf(\n",
    "        x = 0, \n",
    "        loc = -np.mean(boot_data), \n",
    "        scale = np.std(boot_data)\n",
    "    )\n",
    "    p_value = min(p_1, p_2) * 2\n",
    "        \n",
    "    # Визуализация\n",
    "    _, _, bars = plt.hist(pd_boot_data[0], bins = 50)\n",
    "    for bar in bars:\n",
    "        if abs(bar.get_x()) <= quants.iloc[0][0] or abs(bar.get_x()) >= quants.iloc[1][0]:\n",
    "            bar.set_facecolor('red')\n",
    "        else: \n",
    "            bar.set_facecolor('grey')\n",
    "            bar.set_edgecolor('black')\n",
    "    \n",
    "    plt.style.use('ggplot')\n",
    "    plt.vlines(quants,ymin=0,ymax=50,linestyle='--')\n",
    "    plt.xlabel('boot_data')\n",
    "    plt.ylabel('frequency')\n",
    "    plt.title(\"Histogram of boot_data\")\n",
    "    plt.show()\n",
    "       \n",
    "    return {\"quants\": quants, \n",
    "            \"p_value\": p_value}"
   ]
  },
  {
   "cell_type": "code",
   "execution_count": 125,
   "metadata": {},
   "outputs": [
    {
     "name": "stderr",
     "output_type": "stream",
     "text": [
      "100%|██████████| 10000/10000 [00:05<00:00, 1859.83it/s]\n"
     ]
    },
    {
     "data": {
      "image/png": "[encoded data removed]",
      "text/plain": [
       "<Figure size 640x480 with 1 Axes>"
      ]
     },
     "metadata": {},
     "output_type": "display_data"
    },
    {
     "name": "stdout",
     "output_type": "stream",
     "text": [
      "p_value -  0.038\n",
      "               0\n",
      "0.025   0.772281\n",
      "0.975  20.966725\n"
     ]
    }
   ],
   "source": [
    "ARPU_bootstrap = get_bootstrap(ARPU_test.rev, ARPU_control.rev)\n",
    "print('p_value - ', ARPU_bootstrap['p_value'].round(3))\n",
    "print(ARPU_bootstrap['quants'])"
   ]
  },
  {
   "cell_type": "markdown",
   "metadata": {},
   "source": [
    "Значение p-value меньше 0.05 и доверительный интервал не включает в себя 0, следовательно, мы отвергаем нулевую гипотезу и делаем вывод, что различия метрик ARPU в двух группах статистически значимы."
   ]
  },
  {
   "cell_type": "markdown",
   "metadata": {},
   "source": [
    "### Анализ метрики ARPPU. \n",
    "\n",
    "Н0: Нет статистически значимых различий в ARPPU между контрольной и тестовой группами. \n",
    "\n",
    "Н1: Есть статистически значимая разница в ARPPU между контрольной и тестовой группами."
   ]
  },
  {
   "cell_type": "code",
   "execution_count": 126,
   "metadata": {},
   "outputs": [
    {
     "name": "stderr",
     "output_type": "stream",
     "text": [
      "100%|██████████| 10000/10000 [00:02<00:00, 3870.21it/s]\n"
     ]
    },
    {
     "data": {
      "image/png": "[encoded data removed]",
      "text/plain": [
       "<Figure size 640x480 with 1 Axes>"
      ]
     },
     "metadata": {},
     "output_type": "display_data"
    },
    {
     "name": "stdout",
     "output_type": "stream",
     "text": [
      "p_value -  0.0\n",
      "                0\n",
      "0.025  185.569915\n",
      "0.975  459.168960\n"
     ]
    }
   ],
   "source": [
    "# Определим датафреймы для контрольной и тестовой групп:\n",
    "ARPPU_control = active_students_payments.query('grp == \"A\" and rev > 0') \n",
    "ARPPU_test = active_students_payments.query('grp == \"B\" and rev > 0') \n",
    "\n",
    "#Запуск bootstrap\n",
    "ARPPU_bootstrap = get_bootstrap(ARPPU_test.rev, ARPPU_control.rev)\n",
    "print('p_value - ', ARPPU_bootstrap['p_value'].round(5))\n",
    "print(ARPPU_bootstrap['quants'])\n"
   ]
  },
  {
   "cell_type": "markdown",
   "metadata": {},
   "source": [
    "Значение p-value меньше 0.05 и 0 не попадает в доверительный интервал, значит, мы отвергаем нулевую гипотезу и делаем вывод, что различия метрик ARPPU в выборках статистически значимы."
   ]
  },
  {
   "cell_type": "markdown",
   "metadata": {},
   "source": [
    "### Общий вывод\n",
    "\n",
    "Таким образом мы можем сделать следующий выводы:\n",
    "\n",
    "1. при внедрении новой механики оплаты снизилась конверсия в покупку (CR), но эти изменения оказались статистически не значимыми; \n",
    "2. Метрики ARPU и ARPPU в тестовой группе с использованием новой системы оплаты оказались выше, подтвердилась статистическая значимость обнаруженных изменений. \n",
    "\n",
    "С учетом вышеперечисленного, новую систему оплаты можно применять ко всем пользователям сайта, т.к. есть подтвержденные положительные изменения метрик. "
   ]
  }
 ],
 "metadata": {
  "kernelspec": {
   "display_name": "Python 3",
   "language": "python",
   "name": "python3"
  },
  "language_info": {
   "codemirror_mode": {
    "name": "ipython",
    "version": 3
   },
   "file_extension": ".py",
   "mimetype": "text/x-python",
   "name": "python",
   "nbconvert_exporter": "python",
   "pygments_lexer": "ipython3",
   "version": "3.11.9"
  }
 },
 "nbformat": 4,
 "nbformat_minor": 2
}
